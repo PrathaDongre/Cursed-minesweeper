{
 "cells": [
  {
   "cell_type": "markdown",
   "metadata": {},
   "source": [
    "# Initialize"
   ]
  },
  {
   "cell_type": "code",
   "execution_count": 24,
   "metadata": {
    "_cell_guid": "b1076dfc-b9ad-4769-8c92-a6c4dae69d19",
    "_uuid": "8f2839f25d086af736a60e9eeb907d3b93b6e0e5"
   },
   "outputs": [],
   "source": [
    "# This Python 3 environment comes with many helpful analytics libraries installed\n",
    "# It is defined by the kaggle/python Docker image: https://github.com/kaggle/docker-python\n",
    "# For example, here's several helpful packages to load\n",
    "\n",
    "import numpy as np # linear algebra\n",
    "import pandas as pd # data processing, CSV file I/O (e.g. pd.read_csv)\n",
    "import random\n",
    "import seaborn as sns\n",
    "import collections as col\n",
    "from itertools import combinations\n",
    "\n",
    "\n",
    "# Input data files are available in the read-only \"../input/\" directory\n",
    "# For example, running this (by clicking run or pressing Shift+Enter) will list all files under the input directory\n",
    "\n",
    "import os\n",
    "for dirname, _, filenames in os.walk('/kaggle/input'):\n",
    "    for filename in filenames:\n",
    "        print(os.path.join(dirname, filename))\n",
    "\n",
    "# You can write up to 20GB to the current directory (/kaggle/working/) that gets preserved as output when you create a version using \"Save & Run All\" \n",
    "# You can also write temporary files to /kaggle/temp/, but they won't be saved outside of the current session"
   ]
  },
  {
   "cell_type": "markdown",
   "metadata": {},
   "source": [
    "# Beginning\n",
    "If the cells are collapsed, just press run all, dont have to expand since they are very long. Also just to avoid any modifications :)"
   ]
  },
  {
   "cell_type": "code",
   "execution_count": 73,
   "metadata": {},
   "outputs": [],
   "source": [
    "#---------------------------------------------------#\n",
    "#n=size of matrix(ie. if you need a nxn matrix)     \n",
    "#prob=probability of each block having a mine         \n",
    "#ite= how many times you want to run the experiment \n",
    "\n",
    "\n",
    "n = 4                                              \n",
    "prob = 0.9                                       \n",
    "ite=1000 \n",
    "p_m = [39,\n",
    "104,\n",
    "26,\n",
    "346,\n",
    "251] #mine numbers entered here\n",
    "m_list = [10,\n",
    "11,\n",
    "12,\n",
    "13,\n",
    "14] # corresponding p(m)*1000 here\n",
    "\n",
    "\n",
    "#---------------------------------------------------#"
   ]
  },
  {
   "cell_type": "code",
   "execution_count": 74,
   "metadata": {},
   "outputs": [],
   "source": [
    "\n",
    "\n",
    "'''\n",
    "First cell gives the number of times each mine appears in 1000 runs and P(A_i) for a given mine probability\n",
    "Second cell gives number of paths\n",
    "Third cell calculates E[X] \n",
    "'''\n",
    "\n",
    "\n",
    "\n",
    "\n",
    "#mine_num_list = []\n",
    "#mine_freq = {}\n",
    "exp_grids = []\n",
    "#g is an array with len n*n-2 wich holds values 1 or 0, And mine_num_list is a list of number of mines in each of the 1000 runs eg[1,1,1,1,2,2,2,0,0,0,0...(1000elements)]\n",
    "for i in range(len(p_m)):\n",
    "    for j in range(p_m[i]):\n",
    "        mine_num = 0\n",
    "        g = np.array([1] * ((n*n)- m_list[i] - 2) + [0]*(m_list[i]))\n",
    "        np.random.shuffle(g)\n",
    "        exp_gr = np.concatenate(([1],g,[1]))\n",
    "        exp_gr = np.reshape(exp_gr, (n,n))\n",
    "        exp_grids.append(exp_gr)\n",
    "    #for i in g:\n",
    "        #if i==0:\n",
    "            #mine_num+=1\n",
    "    #mine_num_list.append(mine_num)\n",
    "\n",
    "#for items in mine_num_list:\n",
    "    #mine_freq[items] = (mine_num_list.count(items))\n",
    "      \n",
    "#for key, value in mine_freq.items():\n",
    "    #print (\"% d : %d\"%(key, value))\n"
   ]
  },
  {
   "cell_type": "markdown",
   "metadata": {},
   "source": [
    "# All functions"
   ]
  },
  {
   "cell_type": "code",
   "execution_count": 75,
   "metadata": {},
   "outputs": [],
   "source": [
    "#grid, arrays of all arrangements of a given number of mines. Size=n\n",
    "def gridarray(size,mines):\n",
    "    for positions in combinations(range(size), mines):\n",
    "        p = [1] * (size)\n",
    "\n",
    "        for i in positions:\n",
    "            p[i] = 0\n",
    "\n",
    "        yield p\n",
    "\n",
    "#it reshapes all arrays from p to give matrices of all cofigurations for a particular numebr of mines\n",
    "def grids(n,m):\n",
    "    gridlist = []\n",
    "    g = list(gridarray(n*n -2 , m))\n",
    "    for gr in g:\n",
    "        gr = np.concatenate(([1],gr,[1]))\n",
    "        gr = np.reshape(gr, (n,n))\n",
    "        gridlist.append(gr)\n",
    "        \n",
    "    return gridlist\n",
    "\n",
    "#saves indices of all mines in the grid, currently not in use\n",
    "def findmines(maze):\n",
    "    result = []\n",
    "    for i in range(len(maze)):\n",
    "        for j in range(len(maze[i])):\n",
    "            if maze[i][j] == 0:\n",
    "                result.append([i, j])\n",
    "    return result\n",
    "\n",
    "\n",
    "def isValidCell(x, y, maze):\n",
    "    return not (x < 0 or y < 0 or x >= N or y >= N)\n",
    " \n",
    "\n",
    "def countPaths(maze, x, y, visited, count,templist,dataframe):\n",
    "    global count_mine, count_block\n",
    "    \n",
    "    # if destination (bottom-rightmost cell) is found,\n",
    "    # increment the path count\n",
    "    if x == N - 1 and y == N - 1:\n",
    "        #templist.append([N-1,N-1])\n",
    "        #duplicate templist here\n",
    "        dataframe.append(['s'])\n",
    "        return count + 1\n",
    "    \n",
    " \n",
    "    # mark the current cell as visited\n",
    "    visited[x][y] = True\n",
    "    #print(\"appended \",x,y)\n",
    "    #append element here, which can later be removed if it does not satisfy below if statements, we can remove element at backtracking stage.\n",
    "    #templist.append([x,y])\n",
    " \n",
    "    # if the current cell is a valid and open cell\n",
    "    if isValidCell(x, y,maze) and maze[x][y] == 1:\n",
    " \n",
    "        # go down `(x, y)` ——> `(x + 1, y)`\n",
    "        if x + 1 < N and not visited[x + 1][y]:\n",
    "            count = countPaths(maze, x + 1, y, visited, count,templist,dataframe)\n",
    " \n",
    "        # go up `(x, y)` ——> `(x - 1, y)`\n",
    "        if x - 1 >= 0 and not visited[x - 1][y]:\n",
    "            count = countPaths(maze, x - 1, y, visited, count,templist,dataframe)\n",
    "\n",
    "        # go right `(x, y)` ——> `(x, y + 1)`\n",
    "        if y + 1 < N and not visited[x][y + 1]:\n",
    "            count = countPaths(maze, x, y + 1, visited, count,templist,dataframe)\n",
    " \n",
    "        # go left `(x, y)` ——> `(x, y - 1)`\n",
    "        if y - 1 >= 0 and not visited[x][y - 1]:\n",
    "            count = countPaths(maze, x, y - 1, visited, count,templist,dataframe)\n",
    "            \n",
    "    #paths that end in mines,d\n",
    "    if isValidCell(x, y, maze) and maze[x][y]==0:\n",
    "        dataframe.append(['d'])\n",
    "        count_mine+=1\n",
    "        \n",
    "    #paths blocked, l  \n",
    "    if isValidCell(x, y, maze) and maze[x][y]==1 and (x,y)!=(N-1,N-1):\n",
    "        if ((not isValidCell(x+1, y, maze) or visited[x+1][y]) and (x+1,y)!=(N-1,N-1)) and ((not isValidCell(x-1, y, maze) or visited[x-1][y])and (x-1,y)!=(N-1,N-1)) and ((not isValidCell(x, y+1, maze) or visited[x][y+1])and (x,y+1)!=(N-1,N-1)) and ((not isValidCell(x, y-1, maze) or visited[x][y-1])and (x,y-1)!=(N-1,N-1)):\n",
    "            dataframe.append(['l'])\n",
    "            count_block+=1\n",
    "                \n",
    "        \n",
    "     \n",
    "    # backtrack from the current cell and remove it from the current path\n",
    "    visited[x][y] = False\n",
    "    #templist.remove([x,y])\n",
    "    #print(\"removed\", x,y)\n",
    "    return count"
   ]
  },
  {
   "cell_type": "markdown",
   "metadata": {},
   "source": [
    "# Main "
   ]
  },
  {
   "cell_type": "code",
   "execution_count": 83,
   "metadata": {},
   "outputs": [
    {
     "name": "stdout",
     "output_type": "stream",
     "text": [
      "0 39 0 39\n",
      "0 104 0 104\n",
      "0 26 0 26\n",
      "0 346 0 346\n",
      "0 251 0 251\n"
     ]
    }
   ],
   "source": [
    "if __name__ == '__main__':\n",
    "       \n",
    "    #m_list = list(set(mine_num_list))\n",
    "    #s_num, d_num, l_num, total_num = [], [], [], []\n",
    "    exp_s_num,exp_d_num,exp_l_num=[],[],[]\n",
    "\n",
    "    templist = []\n",
    "    for m in m_list:\n",
    "        mazelist = grids(n,m)\n",
    "        count_s, count_d, count_l = 0, 0, 0\n",
    "        explist=[]\n",
    "        for maze in mazelist:\n",
    "\n",
    "            dataframe = []\n",
    "            N = len(maze)\n",
    " \n",
    "            count1 = 0\n",
    "            count_mine = 0\n",
    "            count_block = 0\n",
    " \n",
    "            visited = [[False for x in range(N)] for y in range(N)]\n",
    " \n",
    "            #countlistwashere\n",
    "            \n",
    "            #exp_grids is the list of grids generated over the 1000 runs in the first cell when trying to find number of mines\n",
    "            #for a given p\n",
    "            \n",
    "            for i in exp_grids:\n",
    "                comparison = maze == i\n",
    "                equals= comparison.all()\n",
    "                if equals:\n",
    "                    count1 = countPaths(maze, 0, 0, visited, count1,templist,dataframe)\n",
    "                    explist.append(random.choice(dataframe))\n",
    "            \n",
    "            '''if mazelistcount == mazechoice:\n",
    "            #here we chose the dataframe from the maze chosen above and take a random path from the df( thats the df.sample() method)\n",
    "                k=dataframe.sample().reset_index(drop=True)\n",
    "                explist.append(k.at[0, 'path label'])'''\n",
    "        \n",
    "            #count_s+=count1\n",
    "            #count_d+=count_mine\n",
    "            #count_l+=count_block\n",
    "        \n",
    "        #for m, num of chosen paths is equal to frequency of m \n",
    "        \n",
    "        \n",
    " \n",
    "        #print(\"Number of ideal paths for a\" , n,\"x\",n , \"grid with\" , m , \"mine(s):\")\n",
    "        #print(\"The number of safe paths are\", count_s)\n",
    "        #s_num.append(count_s)\n",
    "        #print(\"The number of paths that hit mines are\", count_d)\n",
    "        #d_num.append(count_d)\n",
    "        #print(\"The number of blocked paths are\", count_l)\n",
    "        #l_num.append(count_l)\n",
    "        #print(\"The total number of paths are\", count_s + count_d + count_l , \"\\n\")\n",
    "        \n",
    "        #total_num.append(count_s + count_d + count_l)\n",
    "    #get the counts of exprimental data for each m\n",
    "    \n",
    "        explist = np.array(explist).flatten()\n",
    "\n",
    "        dicti=col.Counter()\n",
    "        dicti=col.Counter(explist)\n",
    "        exp_s_num.append(dicti['s'])\n",
    "        exp_d_num.append(dicti['d'])\n",
    "        exp_l_num.append(dicti['l'])\n",
    "        \n",
    "        \n",
    "        print(dicti['s'] , dicti['d'] , dicti['l'] , dicti['s']+dicti['d']+dicti['l'])\n",
    "   \n",
    "    "
   ]
  },
  {
   "cell_type": "markdown",
   "metadata": {},
   "source": [
    "**uncomment and run below cell if you want to verify listall**"
   ]
  },
  {
   "cell_type": "code",
   "execution_count": 77,
   "metadata": {},
   "outputs": [
    {
     "data": {
      "text/plain": [
       "'for j in range (0,len(explist)):\\n    dicti=col.Counter()\\n    for sublist in explist[j]:\\n        dicti.update(sublist)\\n    print(dicti)\\n'"
      ]
     },
     "execution_count": 77,
     "metadata": {},
     "output_type": "execute_result"
    }
   ],
   "source": [
    "# uncomment and run this just to verify listall  \n",
    "'''for j in range (0,len(explist)):\n",
    "    dicti=col.Counter()\n",
    "    for sublist in explist[j]:\n",
    "        dicti.update(sublist)\n",
    "    print(dicti)\n",
    "'''"
   ]
  },
  {
   "cell_type": "code",
   "execution_count": 78,
   "metadata": {},
   "outputs": [
    {
     "name": "stdout",
     "output_type": "stream",
     "text": [
      "Expectation for p= 0.9\n",
      "0.0\n"
     ]
    }
   ],
   "source": [
    "#expectation\n",
    "\n",
    "E1, E2 = 0, 0\n",
    "\n",
    "#can be changed based on rv system\n",
    "#-----------------#\n",
    "\n",
    "s, l, d = 2, 1, 0\n",
    "\n",
    "#-----------------#\n",
    "\n",
    "#min_freq[i] is P(A_i) where i is m ; x_num[i] is the number of paths (s or l or d) ; total_num[i] is the total number of paths for a given i (=m)\n",
    "#x_num[i]/total_num[i] = P(x|A_i)\n",
    "\n",
    "for i in range(len(exp_s_num)):\n",
    "    E1+= (s*(exp_s_num[i]/ite))+(l*(exp_l_num[i]/ite))+(d*(exp_d_num[i]/ite))\n",
    "    #E2+= mine_freq[i]/1000*((s*(s_num[i]/total_num[i]))+(l*(l_num[i]/total_num[i]))+(d*(d_num[i]/mine_freq[i])))\n",
    "\n",
    "print(\"Expectation for p=\" , str(prob))\n",
    "print(E1)"
   ]
  },
  {
   "cell_type": "code",
   "execution_count": null,
   "metadata": {},
   "outputs": [],
   "source": []
  },
  {
   "cell_type": "code",
   "execution_count": null,
   "metadata": {},
   "outputs": [],
   "source": []
  }
 ],
 "metadata": {
  "kernelspec": {
   "display_name": "Python 3",
   "language": "python",
   "name": "python3"
  },
  "language_info": {
   "codemirror_mode": {
    "name": "ipython",
    "version": 3
   },
   "file_extension": ".py",
   "mimetype": "text/x-python",
   "name": "python",
   "nbconvert_exporter": "python",
   "pygments_lexer": "ipython3",
   "version": "3.7.4"
  }
 },
 "nbformat": 4,
 "nbformat_minor": 4
}
