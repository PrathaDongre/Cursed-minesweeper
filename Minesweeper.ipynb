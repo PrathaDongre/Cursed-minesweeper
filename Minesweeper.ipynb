{
 "cells": [
  {
   "cell_type": "code",
   "execution_count": 1,
   "metadata": {},
   "outputs": [
    {
     "name": "stdout",
     "output_type": "stream",
     "text": [
      "Collecting simpy\n",
      "  Downloading https://files.pythonhosted.org/packages/20/f9/874b0bab83406827db93292a5bbe5acb5c18e3cea665b2f6e053292cb687/simpy-4.0.1-py2.py3-none-any.whl\n",
      "Installing collected packages: simpy\n",
      "Successfully installed simpy-4.0.1\n"
     ]
    }
   ],
   "source": [
    "!pip install simpy"
   ]
  },
  {
   "cell_type": "code",
   "execution_count": 2,
   "metadata": {},
   "outputs": [],
   "source": [
    "#imports\n",
    "import numpy as np\n",
    "import random as rm\n",
    "import simpy"
   ]
  },
  {
   "cell_type": "code",
   "execution_count": 43,
   "metadata": {
    "scrolled": false
   },
   "outputs": [
    {
     "ename": "ValueError",
     "evalue": "invalid literal for int() with base 10: 'null'",
     "output_type": "error",
     "traceback": [
      "\u001b[1;31m---------------------------------------------------------------------------\u001b[0m",
      "\u001b[1;31mValueError\u001b[0m                                Traceback (most recent call last)",
      "\u001b[1;32m<ipython-input-43-1d3fad2275f7>\u001b[0m in \u001b[0;36m<module>\u001b[1;34m\u001b[0m\n\u001b[0;32m     10\u001b[0m         \u001b[1;32mcontinue\u001b[0m\u001b[1;33m\u001b[0m\u001b[1;33m\u001b[0m\u001b[0m\n\u001b[0;32m     11\u001b[0m     \u001b[1;32melse\u001b[0m\u001b[1;33m:\u001b[0m\u001b[1;33m\u001b[0m\u001b[1;33m\u001b[0m\u001b[0m\n\u001b[1;32m---> 12\u001b[1;33m         \u001b[0mc\u001b[0m\u001b[1;33m[\u001b[0m\u001b[0mx\u001b[0m\u001b[1;33m]\u001b[0m\u001b[1;33m[\u001b[0m\u001b[0my\u001b[0m\u001b[1;33m]\u001b[0m \u001b[1;33m=\u001b[0m \u001b[1;34m\"null\"\u001b[0m\u001b[1;33m\u001b[0m\u001b[1;33m\u001b[0m\u001b[0m\n\u001b[0m\u001b[0;32m     13\u001b[0m         \u001b[0mi\u001b[0m\u001b[1;33m+=\u001b[0m\u001b[1;36m1\u001b[0m\u001b[1;33m\u001b[0m\u001b[1;33m\u001b[0m\u001b[0m\n\u001b[0;32m     14\u001b[0m \u001b[0mc\u001b[0m\u001b[1;33m\u001b[0m\u001b[1;33m\u001b[0m\u001b[0m\n",
      "\u001b[1;31mValueError\u001b[0m: invalid literal for int() with base 10: 'null'"
     ]
    }
   ],
   "source": [
    "#initializations/ Parameters\n",
    "n=10\n",
    "c= np.zeros([n,n], dtype = int)\n",
    "num_of_mine=10\n",
    "i=0\n",
    "while i<num_of_mine:\n",
    "    x= rm.randint(0,n-1)\n",
    "    y= rm.randint(0,n-1)\n",
    "    if c[x][y] == -10000:\n",
    "        continue\n",
    "    else: \n",
    "        c[x][y] = \"null\"\n",
    "        i+=1\n",
    "c"
   ]
  },
  {
   "cell_type": "code",
   "execution_count": 64,
   "metadata": {},
   "outputs": [],
   "source": [
    "def iterations(num_of_itr, n,num_of_mines): #num_of _itr is how many time you want \"me\" to move around, n is to get matrix of size nxn\n",
    "\n",
    "    matrix= np.zeros([n,n], dtype = int)  #numpy 2d array of nxn elements \n",
    "    i=0\n",
    "    counter=0\n",
    "    #placing mines\n",
    "    while i<num_of_mines:\n",
    "        x= rm.randint(0,n-1)\n",
    "        y= rm.randint(0,n-1)\n",
    "        if matrix[x][y] == -10000:\n",
    "            continue\n",
    "        else: \n",
    "            matrix[x][y] = \"-10000\"\n",
    "            i+=1    #'me' will be the point that moves in the matrix, it has only coordinates attributed to it\n",
    "    me= [n-1,n-1]\n",
    "    me_path=[]\n",
    "    me_path.append(me)\n",
    "    #choosing a number from 1 to 8 and depending on that we move \"me\" to the next block\n",
    "    while counter<num_of_itr:\n",
    "        #moving if \"me\" is at corners\n",
    "        if me==[0,0]: #if me is at 0,0\n",
    "            one_to_three=rm.randint(1,3)\n",
    "            if one_to_three == 1:\n",
    "                me=[me[0],me[1]+1]\n",
    "\n",
    "            if one_to_three == 2:\n",
    "                me=[me[0]+1,me[1]]\n",
    "                \n",
    "            if one_to_three == 3:\n",
    "                me=[me[0]+1,me[1]+1]\n",
    "                \n",
    "        if me==[0,n-1]: #if me is at 0,n-1\n",
    "            one_to_three=rm.randint(1,3)\n",
    "            if one_to_three == 1:\n",
    "                me=[me[0],me[1]-1]\n",
    "                \n",
    "            if one_to_three == 2:\n",
    "                me=[me[0]+1,me[1]-1]\n",
    "                \n",
    "            if one_to_three == 3:\n",
    "                me=[me[0]+1,me[1]]\n",
    "            \n",
    "        if me==[n-1,0]: #if me is at n-1,0\n",
    "            one_to_three=rm.randint(1,3)\n",
    "            if one_to_three == 1:\n",
    "                me=[me[0]-1,me[1]]\n",
    "\n",
    "            if one_to_three == 2:\n",
    "                me=[me[0]-1,me[1]+1]\n",
    "                \n",
    "            if one_to_three == 3:\n",
    "                me=[me[0],me[1]+1]\n",
    "          \n",
    "        if me==[n-1,n-1]: #if me is at n-1,n-1\n",
    "            one_to_three=rm.randint(1,3)\n",
    "            if one_to_three == 1:\n",
    "                me=[me[0],me[1]-1]\n",
    "\n",
    "            if one_to_three == 2:\n",
    "                me=[me[0]-1,me[1]-1]\n",
    "                \n",
    "            if one_to_three == 3:\n",
    "                me=[me[0]-1,me[1]]\n",
    "        else:    \n",
    "            one_to_eight= rm.randint(1,8)\n",
    "            if one_to_eight == 1:\n",
    "                me=[me[0]-1,me[1]-1]\n",
    "\n",
    "            if one_to_eight == 2:\n",
    "                me=[me[0]-1,me[1]]\n",
    "\n",
    "            if one_to_eight == 3:\n",
    "                me=[me[0]-1,me[1]+1]\n",
    "\n",
    "            if one_to_eight == 4:\n",
    "                me=[me[0],me[1]-1]\n",
    "\n",
    "            if one_to_eight == 5:\n",
    "                me=[me[0],me[1]+1]\n",
    "\n",
    "            if one_to_eight == 6:\n",
    "                me=[me[0]+1,me[1]-1]\n",
    "\n",
    "            if one_to_eight == 7:\n",
    "                me=[me[0]+1,me[1]]\n",
    "\n",
    "            if one_to_eight == 8:\n",
    "                me=[me[0]+1,me[1]+1]\n",
    "        counter+=1\n",
    "        me_path.append(me) \n",
    "        print(matrix,me_path)"
   ]
  },
  {
   "cell_type": "code",
   "execution_count": 21,
   "metadata": {},
   "outputs": [
    {
     "name": "stdout",
     "output_type": "stream",
     "text": [
      "yay\n"
     ]
    }
   ],
   "source": [
    "\n",
    "#looking at the path of me\n",
    "def me_trail_funct(n,me,me_path):\n",
    "    me_matrix=np.zeros([n,n], dtype = int)\n",
    "    me_start=me_path[0]\n",
    "    for i in:\n",
    "        "
   ]
  },
  {
   "cell_type": "code",
   "execution_count": 65,
   "metadata": {},
   "outputs": [
    {
     "name": "stdout",
     "output_type": "stream",
     "text": [
      "[[     0      0      0      0      0      0      0      0]\n",
      " [     0      0      0 -10000      0      0      0      0]\n",
      " [     0      0      0      0      0 -10000      0      0]\n",
      " [     0      0 -10000 -10000      0      0      0      0]\n",
      " [     0 -10000      0      0 -10000 -10000      0      0]\n",
      " [-10000      0      0      0      0      0      0      0]\n",
      " [     0      0      0 -10000      0      0      0      0]\n",
      " [     0      0      0      0      0      0 -10000      0]] [[7, 7], [7, 6]]\n",
      "[[     0      0      0      0      0      0      0      0]\n",
      " [     0      0      0 -10000      0      0      0      0]\n",
      " [     0      0      0      0      0 -10000      0      0]\n",
      " [     0      0 -10000 -10000      0      0      0      0]\n",
      " [     0 -10000      0      0 -10000 -10000      0      0]\n",
      " [-10000      0      0      0      0      0      0      0]\n",
      " [     0      0      0 -10000      0      0      0      0]\n",
      " [     0      0      0      0      0      0 -10000      0]] [[7, 7], [7, 6], [8, 7]]\n",
      "[[     0      0      0      0      0      0      0      0]\n",
      " [     0      0      0 -10000      0      0      0      0]\n",
      " [     0      0      0      0      0 -10000      0      0]\n",
      " [     0      0 -10000 -10000      0      0      0      0]\n",
      " [     0 -10000      0      0 -10000 -10000      0      0]\n",
      " [-10000      0      0      0      0      0      0      0]\n",
      " [     0      0      0 -10000      0      0      0      0]\n",
      " [     0      0      0      0      0      0 -10000      0]] [[7, 7], [7, 6], [8, 7], [7, 6]]\n",
      "[[     0      0      0      0      0      0      0      0]\n",
      " [     0      0      0 -10000      0      0      0      0]\n",
      " [     0      0      0      0      0 -10000      0      0]\n",
      " [     0      0 -10000 -10000      0      0      0      0]\n",
      " [     0 -10000      0      0 -10000 -10000      0      0]\n",
      " [-10000      0      0      0      0      0      0      0]\n",
      " [     0      0      0 -10000      0      0      0      0]\n",
      " [     0      0      0      0      0      0 -10000      0]] [[7, 7], [7, 6], [8, 7], [7, 6], [8, 5]]\n",
      "[[     0      0      0      0      0      0      0      0]\n",
      " [     0      0      0 -10000      0      0      0      0]\n",
      " [     0      0      0      0      0 -10000      0      0]\n",
      " [     0      0 -10000 -10000      0      0      0      0]\n",
      " [     0 -10000      0      0 -10000 -10000      0      0]\n",
      " [-10000      0      0      0      0      0      0      0]\n",
      " [     0      0      0 -10000      0      0      0      0]\n",
      " [     0      0      0      0      0      0 -10000      0]] [[7, 7], [7, 6], [8, 7], [7, 6], [8, 5], [8, 4]]\n",
      "[[     0      0      0      0      0      0      0      0]\n",
      " [     0      0      0 -10000      0      0      0      0]\n",
      " [     0      0      0      0      0 -10000      0      0]\n",
      " [     0      0 -10000 -10000      0      0      0      0]\n",
      " [     0 -10000      0      0 -10000 -10000      0      0]\n",
      " [-10000      0      0      0      0      0      0      0]\n",
      " [     0      0      0 -10000      0      0      0      0]\n",
      " [     0      0      0      0      0      0 -10000      0]] [[7, 7], [7, 6], [8, 7], [7, 6], [8, 5], [8, 4], [9, 5]]\n",
      "[[     0      0      0      0      0      0      0      0]\n",
      " [     0      0      0 -10000      0      0      0      0]\n",
      " [     0      0      0      0      0 -10000      0      0]\n",
      " [     0      0 -10000 -10000      0      0      0      0]\n",
      " [     0 -10000      0      0 -10000 -10000      0      0]\n",
      " [-10000      0      0      0      0      0      0      0]\n",
      " [     0      0      0 -10000      0      0      0      0]\n",
      " [     0      0      0      0      0      0 -10000      0]] [[7, 7], [7, 6], [8, 7], [7, 6], [8, 5], [8, 4], [9, 5], [10, 4]]\n",
      "[[     0      0      0      0      0      0      0      0]\n",
      " [     0      0      0 -10000      0      0      0      0]\n",
      " [     0      0      0      0      0 -10000      0      0]\n",
      " [     0      0 -10000 -10000      0      0      0      0]\n",
      " [     0 -10000      0      0 -10000 -10000      0      0]\n",
      " [-10000      0      0      0      0      0      0      0]\n",
      " [     0      0      0 -10000      0      0      0      0]\n",
      " [     0      0      0      0      0      0 -10000      0]] [[7, 7], [7, 6], [8, 7], [7, 6], [8, 5], [8, 4], [9, 5], [10, 4], [9, 3]]\n",
      "[[     0      0      0      0      0      0      0      0]\n",
      " [     0      0      0 -10000      0      0      0      0]\n",
      " [     0      0      0      0      0 -10000      0      0]\n",
      " [     0      0 -10000 -10000      0      0      0      0]\n",
      " [     0 -10000      0      0 -10000 -10000      0      0]\n",
      " [-10000      0      0      0      0      0      0      0]\n",
      " [     0      0      0 -10000      0      0      0      0]\n",
      " [     0      0      0      0      0      0 -10000      0]] [[7, 7], [7, 6], [8, 7], [7, 6], [8, 5], [8, 4], [9, 5], [10, 4], [9, 3], [9, 2]]\n",
      "[[     0      0      0      0      0      0      0      0]\n",
      " [     0      0      0 -10000      0      0      0      0]\n",
      " [     0      0      0      0      0 -10000      0      0]\n",
      " [     0      0 -10000 -10000      0      0      0      0]\n",
      " [     0 -10000      0      0 -10000 -10000      0      0]\n",
      " [-10000      0      0      0      0      0      0      0]\n",
      " [     0      0      0 -10000      0      0      0      0]\n",
      " [     0      0      0      0      0      0 -10000      0]] [[7, 7], [7, 6], [8, 7], [7, 6], [8, 5], [8, 4], [9, 5], [10, 4], [9, 3], [9, 2], [9, 3]]\n"
     ]
    }
   ],
   "source": [
    "iterations(10,8,10)"
   ]
  },
  {
   "cell_type": "code",
   "execution_count": null,
   "metadata": {},
   "outputs": [],
   "source": []
  }
 ],
 "metadata": {
  "kernelspec": {
   "display_name": "Python 3",
   "language": "python",
   "name": "python3"
  },
  "language_info": {
   "codemirror_mode": {
    "name": "ipython",
    "version": 3
   },
   "file_extension": ".py",
   "mimetype": "text/x-python",
   "name": "python",
   "nbconvert_exporter": "python",
   "pygments_lexer": "ipython3",
   "version": "3.7.4"
  }
 },
 "nbformat": 4,
 "nbformat_minor": 2
}
